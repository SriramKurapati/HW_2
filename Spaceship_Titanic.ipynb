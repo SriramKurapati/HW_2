{
  "nbformat": 4,
  "nbformat_minor": 0,
  "metadata": {
    "colab": {
      "provenance": [],
      "include_colab_link": true
    },
    "kernelspec": {
      "name": "python3",
      "display_name": "Python 3"
    },
    "language_info": {
      "name": "python"
    }
  },
  "cells": [
    {
      "cell_type": "markdown",
      "metadata": {
        "id": "view-in-github",
        "colab_type": "text"
      },
      "source": [
        "<a href=\"https://colab.research.google.com/github/SriramKurapati/HW_2/blob/main/Spaceship_Titanic.ipynb\" target=\"_parent\"><img src=\"https://colab.research.google.com/assets/colab-badge.svg\" alt=\"Open In Colab\"/></a>"
      ]
    },
    {
      "cell_type": "code",
      "execution_count": null,
      "metadata": {
        "id": "tguWL3LjLvzR"
      },
      "outputs": [],
      "source": [
        "import numpy as np \n",
        "import pandas as pd \n",
        "import matplotlib.pyplot as plt\n",
        "import seaborn as sns\n",
        "\n",
        "\n",
        "import os\n",
        "for dirname, _, filenames in os.walk('/kaggle/input'):\n",
        "    for filename in filenames:\n",
        "        print(os.path.join(dirname, filename))"
      ]
    },
    {
      "cell_type": "code",
      "source": [
        "train_df = pd.read_csv('train.csv')\n",
        "test_df = pd.read_csv('test.csv')\n",
        "sample_df = pd.read_csv('sample_submission.csv')\n",
        "\n",
        "train = train_df.copy()\n",
        "test = test_df.copy()\n",
        "sample = sample_df.copy()\n",
        "train_test = pd.concat([train,test],axis=0,ignore_index=True)"
      ],
      "metadata": {
        "id": "wKa5V_9HNBHh"
      },
      "execution_count": null,
      "outputs": []
    },
    {
      "cell_type": "code",
      "source": [
        "train.head()"
      ],
      "metadata": {
        "id": "pYalf3IuNLOT",
        "colab": {
          "base_uri": "https://localhost:8080/",
          "height": 357
        },
        "outputId": "916031d6-38d7-4b2f-92a0-ba02f8541722"
      },
      "execution_count": null,
      "outputs": [
        {
          "output_type": "execute_result",
          "data": {
            "text/plain": [
              "  PassengerId HomePlanet CryoSleep  Cabin  Destination   Age    VIP  \\\n",
              "0     0001_01     Europa     False  B/0/P  TRAPPIST-1e  39.0  False   \n",
              "1     0002_01      Earth     False  F/0/S  TRAPPIST-1e  24.0  False   \n",
              "2     0003_01     Europa     False  A/0/S  TRAPPIST-1e  58.0   True   \n",
              "3     0003_02     Europa     False  A/0/S  TRAPPIST-1e  33.0  False   \n",
              "4     0004_01      Earth     False  F/1/S  TRAPPIST-1e  16.0  False   \n",
              "\n",
              "   RoomService  FoodCourt  ShoppingMall     Spa  VRDeck               Name  \\\n",
              "0          0.0        0.0           0.0     0.0     0.0    Maham Ofracculy   \n",
              "1        109.0        9.0          25.0   549.0    44.0       Juanna Vines   \n",
              "2         43.0     3576.0           0.0  6715.0    49.0      Altark Susent   \n",
              "3          0.0     1283.0         371.0  3329.0   193.0       Solam Susent   \n",
              "4        303.0       70.0         151.0   565.0     2.0  Willy Santantines   \n",
              "\n",
              "   Transported  \n",
              "0        False  \n",
              "1         True  \n",
              "2        False  \n",
              "3        False  \n",
              "4         True  "
            ],
            "text/html": [
              "\n",
              "  <div id=\"df-eb6f78a1-0c5c-45ef-8535-f1459b57307b\">\n",
              "    <div class=\"colab-df-container\">\n",
              "      <div>\n",
              "<style scoped>\n",
              "    .dataframe tbody tr th:only-of-type {\n",
              "        vertical-align: middle;\n",
              "    }\n",
              "\n",
              "    .dataframe tbody tr th {\n",
              "        vertical-align: top;\n",
              "    }\n",
              "\n",
              "    .dataframe thead th {\n",
              "        text-align: right;\n",
              "    }\n",
              "</style>\n",
              "<table border=\"1\" class=\"dataframe\">\n",
              "  <thead>\n",
              "    <tr style=\"text-align: right;\">\n",
              "      <th></th>\n",
              "      <th>PassengerId</th>\n",
              "      <th>HomePlanet</th>\n",
              "      <th>CryoSleep</th>\n",
              "      <th>Cabin</th>\n",
              "      <th>Destination</th>\n",
              "      <th>Age</th>\n",
              "      <th>VIP</th>\n",
              "      <th>RoomService</th>\n",
              "      <th>FoodCourt</th>\n",
              "      <th>ShoppingMall</th>\n",
              "      <th>Spa</th>\n",
              "      <th>VRDeck</th>\n",
              "      <th>Name</th>\n",
              "      <th>Transported</th>\n",
              "    </tr>\n",
              "  </thead>\n",
              "  <tbody>\n",
              "    <tr>\n",
              "      <th>0</th>\n",
              "      <td>0001_01</td>\n",
              "      <td>Europa</td>\n",
              "      <td>False</td>\n",
              "      <td>B/0/P</td>\n",
              "      <td>TRAPPIST-1e</td>\n",
              "      <td>39.0</td>\n",
              "      <td>False</td>\n",
              "      <td>0.0</td>\n",
              "      <td>0.0</td>\n",
              "      <td>0.0</td>\n",
              "      <td>0.0</td>\n",
              "      <td>0.0</td>\n",
              "      <td>Maham Ofracculy</td>\n",
              "      <td>False</td>\n",
              "    </tr>\n",
              "    <tr>\n",
              "      <th>1</th>\n",
              "      <td>0002_01</td>\n",
              "      <td>Earth</td>\n",
              "      <td>False</td>\n",
              "      <td>F/0/S</td>\n",
              "      <td>TRAPPIST-1e</td>\n",
              "      <td>24.0</td>\n",
              "      <td>False</td>\n",
              "      <td>109.0</td>\n",
              "      <td>9.0</td>\n",
              "      <td>25.0</td>\n",
              "      <td>549.0</td>\n",
              "      <td>44.0</td>\n",
              "      <td>Juanna Vines</td>\n",
              "      <td>True</td>\n",
              "    </tr>\n",
              "    <tr>\n",
              "      <th>2</th>\n",
              "      <td>0003_01</td>\n",
              "      <td>Europa</td>\n",
              "      <td>False</td>\n",
              "      <td>A/0/S</td>\n",
              "      <td>TRAPPIST-1e</td>\n",
              "      <td>58.0</td>\n",
              "      <td>True</td>\n",
              "      <td>43.0</td>\n",
              "      <td>3576.0</td>\n",
              "      <td>0.0</td>\n",
              "      <td>6715.0</td>\n",
              "      <td>49.0</td>\n",
              "      <td>Altark Susent</td>\n",
              "      <td>False</td>\n",
              "    </tr>\n",
              "    <tr>\n",
              "      <th>3</th>\n",
              "      <td>0003_02</td>\n",
              "      <td>Europa</td>\n",
              "      <td>False</td>\n",
              "      <td>A/0/S</td>\n",
              "      <td>TRAPPIST-1e</td>\n",
              "      <td>33.0</td>\n",
              "      <td>False</td>\n",
              "      <td>0.0</td>\n",
              "      <td>1283.0</td>\n",
              "      <td>371.0</td>\n",
              "      <td>3329.0</td>\n",
              "      <td>193.0</td>\n",
              "      <td>Solam Susent</td>\n",
              "      <td>False</td>\n",
              "    </tr>\n",
              "    <tr>\n",
              "      <th>4</th>\n",
              "      <td>0004_01</td>\n",
              "      <td>Earth</td>\n",
              "      <td>False</td>\n",
              "      <td>F/1/S</td>\n",
              "      <td>TRAPPIST-1e</td>\n",
              "      <td>16.0</td>\n",
              "      <td>False</td>\n",
              "      <td>303.0</td>\n",
              "      <td>70.0</td>\n",
              "      <td>151.0</td>\n",
              "      <td>565.0</td>\n",
              "      <td>2.0</td>\n",
              "      <td>Willy Santantines</td>\n",
              "      <td>True</td>\n",
              "    </tr>\n",
              "  </tbody>\n",
              "</table>\n",
              "</div>\n",
              "      <button class=\"colab-df-convert\" onclick=\"convertToInteractive('df-eb6f78a1-0c5c-45ef-8535-f1459b57307b')\"\n",
              "              title=\"Convert this dataframe to an interactive table.\"\n",
              "              style=\"display:none;\">\n",
              "        \n",
              "  <svg xmlns=\"http://www.w3.org/2000/svg\" height=\"24px\"viewBox=\"0 0 24 24\"\n",
              "       width=\"24px\">\n",
              "    <path d=\"M0 0h24v24H0V0z\" fill=\"none\"/>\n",
              "    <path d=\"M18.56 5.44l.94 2.06.94-2.06 2.06-.94-2.06-.94-.94-2.06-.94 2.06-2.06.94zm-11 1L8.5 8.5l.94-2.06 2.06-.94-2.06-.94L8.5 2.5l-.94 2.06-2.06.94zm10 10l.94 2.06.94-2.06 2.06-.94-2.06-.94-.94-2.06-.94 2.06-2.06.94z\"/><path d=\"M17.41 7.96l-1.37-1.37c-.4-.4-.92-.59-1.43-.59-.52 0-1.04.2-1.43.59L10.3 9.45l-7.72 7.72c-.78.78-.78 2.05 0 2.83L4 21.41c.39.39.9.59 1.41.59.51 0 1.02-.2 1.41-.59l7.78-7.78 2.81-2.81c.8-.78.8-2.07 0-2.86zM5.41 20L4 18.59l7.72-7.72 1.47 1.35L5.41 20z\"/>\n",
              "  </svg>\n",
              "      </button>\n",
              "      \n",
              "  <style>\n",
              "    .colab-df-container {\n",
              "      display:flex;\n",
              "      flex-wrap:wrap;\n",
              "      gap: 12px;\n",
              "    }\n",
              "\n",
              "    .colab-df-convert {\n",
              "      background-color: #E8F0FE;\n",
              "      border: none;\n",
              "      border-radius: 50%;\n",
              "      cursor: pointer;\n",
              "      display: none;\n",
              "      fill: #1967D2;\n",
              "      height: 32px;\n",
              "      padding: 0 0 0 0;\n",
              "      width: 32px;\n",
              "    }\n",
              "\n",
              "    .colab-df-convert:hover {\n",
              "      background-color: #E2EBFA;\n",
              "      box-shadow: 0px 1px 2px rgba(60, 64, 67, 0.3), 0px 1px 3px 1px rgba(60, 64, 67, 0.15);\n",
              "      fill: #174EA6;\n",
              "    }\n",
              "\n",
              "    [theme=dark] .colab-df-convert {\n",
              "      background-color: #3B4455;\n",
              "      fill: #D2E3FC;\n",
              "    }\n",
              "\n",
              "    [theme=dark] .colab-df-convert:hover {\n",
              "      background-color: #434B5C;\n",
              "      box-shadow: 0px 1px 3px 1px rgba(0, 0, 0, 0.15);\n",
              "      filter: drop-shadow(0px 1px 2px rgba(0, 0, 0, 0.3));\n",
              "      fill: #FFFFFF;\n",
              "    }\n",
              "  </style>\n",
              "\n",
              "      <script>\n",
              "        const buttonEl =\n",
              "          document.querySelector('#df-eb6f78a1-0c5c-45ef-8535-f1459b57307b button.colab-df-convert');\n",
              "        buttonEl.style.display =\n",
              "          google.colab.kernel.accessAllowed ? 'block' : 'none';\n",
              "\n",
              "        async function convertToInteractive(key) {\n",
              "          const element = document.querySelector('#df-eb6f78a1-0c5c-45ef-8535-f1459b57307b');\n",
              "          const dataTable =\n",
              "            await google.colab.kernel.invokeFunction('convertToInteractive',\n",
              "                                                     [key], {});\n",
              "          if (!dataTable) return;\n",
              "\n",
              "          const docLinkHtml = 'Like what you see? Visit the ' +\n",
              "            '<a target=\"_blank\" href=https://colab.research.google.com/notebooks/data_table.ipynb>data table notebook</a>'\n",
              "            + ' to learn more about interactive tables.';\n",
              "          element.innerHTML = '';\n",
              "          dataTable['output_type'] = 'display_data';\n",
              "          await google.colab.output.renderOutput(dataTable, element);\n",
              "          const docLink = document.createElement('div');\n",
              "          docLink.innerHTML = docLinkHtml;\n",
              "          element.appendChild(docLink);\n",
              "        }\n",
              "      </script>\n",
              "    </div>\n",
              "  </div>\n",
              "  "
            ]
          },
          "metadata": {},
          "execution_count": 4
        }
      ]
    },
    {
      "cell_type": "code",
      "source": [
        "\n",
        "train.Transported.sum()/len(train)"
      ],
      "metadata": {
        "id": "e2Ipbwdh_uJT",
        "colab": {
          "base_uri": "https://localhost:8080/"
        },
        "outputId": "e4cc7c22-0844-4115-856c-e63a86f54196"
      },
      "execution_count": null,
      "outputs": [
        {
          "output_type": "execute_result",
          "data": {
            "text/plain": [
              "0.5036236051995858"
            ]
          },
          "metadata": {},
          "execution_count": 5
        }
      ]
    },
    {
      "cell_type": "code",
      "source": [
        "train_test.isnull().sum()"
      ],
      "metadata": {
        "id": "xzw9BOB6_xK_",
        "colab": {
          "base_uri": "https://localhost:8080/"
        },
        "outputId": "67910304-573b-4dfd-a946-2d7e3091fc38"
      },
      "execution_count": null,
      "outputs": [
        {
          "output_type": "execute_result",
          "data": {
            "text/plain": [
              "PassengerId        0\n",
              "HomePlanet       288\n",
              "CryoSleep        310\n",
              "Cabin            299\n",
              "Destination      274\n",
              "Age              270\n",
              "VIP              296\n",
              "RoomService      263\n",
              "FoodCourt        289\n",
              "ShoppingMall     306\n",
              "Spa              284\n",
              "VRDeck           268\n",
              "Name             294\n",
              "Transported     4277\n",
              "dtype: int64"
            ]
          },
          "metadata": {},
          "execution_count": 6
        }
      ]
    },
    {
      "cell_type": "code",
      "source": [
        "train['PassengerGroup'] = train.PassengerId.str.split('_',expand=True)[0].astype('int')\n",
        "test['PassengerGroup'] = test.PassengerId.str.split('_',expand=True)[0].astype('int')\n",
        "\n",
        "len(set(train['PassengerGroup'])) + len(set(test['PassengerGroup'])) - len(set(list(train['PassengerGroup'])+list(test['PassengerGroup'])))"
      ],
      "metadata": {
        "id": "MvzaIwXy_z1Z",
        "colab": {
          "base_uri": "https://localhost:8080/"
        },
        "outputId": "d4cbe88b-9934-4669-cb11-b62eb353f8c0"
      },
      "execution_count": null,
      "outputs": [
        {
          "output_type": "execute_result",
          "data": {
            "text/plain": [
              "0"
            ]
          },
          "metadata": {},
          "execution_count": 7
        }
      ]
    },
    {
      "cell_type": "code",
      "source": [
        "train['HomePlanet'] = train['HomePlanet'].fillna(value='Unknown')\n",
        "test['HomePlanet'] = test['HomePlanet'].fillna(value='Unknown')"
      ],
      "metadata": {
        "id": "yM2oFJox_30w"
      },
      "execution_count": null,
      "outputs": []
    },
    {
      "cell_type": "code",
      "source": [
        "# CryoSleep\n",
        "train['CryoSleep'] = train['CryoSleep'].fillna(value=False)\n",
        "test['CryoSleep'] = test['CryoSleep'].fillna(value=False)"
      ],
      "metadata": {
        "id": "k-d5NZZT_69q"
      },
      "execution_count": null,
      "outputs": []
    },
    {
      "cell_type": "code",
      "source": [
        "# Cabin\n",
        "train['CabinDeck'] = train['Cabin'].str.split('/',expand=True)[0]\n",
        "test['CabinDeck'] = test['Cabin'].str.split('/',expand=True)[0]\n",
        "train['CabinDeck'] = train['CabinDeck'].fillna(value='U')\n",
        "test['CabinDeck'] = test['CabinDeck'].fillna(value='U')\n",
        "\n",
        "train['CabinSide'] = train['Cabin'].str.split('/',expand=True)[2]\n",
        "test['CabinSide'] = test['Cabin'].str.split('/',expand=True)[2]\n",
        "train['CabinSide'] = train['CabinSide'].fillna(value='U')\n",
        "test['CabinSide'] = test['CabinSide'].fillna(value='U')"
      ],
      "metadata": {
        "id": "bkoKRnsIAC18"
      },
      "execution_count": null,
      "outputs": []
    },
    {
      "cell_type": "code",
      "source": [
        "# Destination\n",
        "dest_dic = {'TRAPPIST-1e':'A','55 Cancri e':'B','PSO J318.5-22':'C'}\n",
        "train['Destination'] = train['Destination'].map(dest_dic)\n",
        "train['Destination'] = train['Destination'].fillna(value='U')\n",
        "test['Destination'] = test['Destination'].map(dest_dic)\n",
        "test['Destination'] = test['Destination'].fillna(value='U')"
      ],
      "metadata": {
        "id": "4qH-D5z8AGC6"
      },
      "execution_count": null,
      "outputs": []
    },
    {
      "cell_type": "code",
      "source": [
        "# Age\n",
        "train['Age'] = train['Age'].fillna(train.groupby('PassengerGroup')['Age'].transform('median'))\n",
        "train['Age'] = train['Age'].fillna(train.groupby('HomePlanet')['Age'].transform('median'))\n",
        "\n",
        "test['Age'] = test['Age'].fillna(test.groupby('PassengerGroup')['Age'].transform('median'))\n",
        "test['Age'] = test['Age'].fillna(test.groupby('HomePlanet')['Age'].transform('median'))\n",
        "\n",
        "train['Adult'] = 1\n",
        "train.loc[train['Age']<18, 'Adult'] = 0\n",
        "\n",
        "test['Adult'] = 1\n",
        "test.loc[test['Age']<18, 'Adult'] = 0"
      ],
      "metadata": {
        "id": "l-N8-NUJAOPh"
      },
      "execution_count": null,
      "outputs": []
    },
    {
      "cell_type": "code",
      "source": [
        "# VIP\n",
        "train['VIP'] = train['VIP'].fillna(value=False)\n",
        "test['VIP'] = test['VIP'].fillna(value=False)"
      ],
      "metadata": {
        "id": "R60OBU-OARMK"
      },
      "execution_count": null,
      "outputs": []
    },
    {
      "cell_type": "code",
      "source": [
        "# RoomService, FoodCourt, ShoppingMall, Spa, VRDeck\n",
        "train[['RoomService','FoodCourt','ShoppingMall','Spa','VRDeck']] = train[['RoomService','FoodCourt','ShoppingMall','Spa','VRDeck']].fillna(value=0)\n",
        "test[['RoomService','FoodCourt','ShoppingMall','Spa','VRDeck']] = test[['RoomService','FoodCourt','ShoppingMall','Spa','VRDeck']].fillna(value=0)"
      ],
      "metadata": {
        "id": "AOU_wCM2ATwU"
      },
      "execution_count": null,
      "outputs": []
    },
    {
      "cell_type": "code",
      "source": [
        "# Total Spend\n",
        "train['TotalSpend'] = train['RoomService']+train['FoodCourt']+train['ShoppingMall']+train['Spa']+train['VRDeck']\n",
        "test['TotalSpend'] = test['RoomService']+test['FoodCourt']+test['ShoppingMall']+test['Spa']+test['VRDeck']"
      ],
      "metadata": {
        "id": "RjD-tazvAWBD"
      },
      "execution_count": null,
      "outputs": []
    },
    {
      "cell_type": "code",
      "source": [
        "# Name\n",
        "train['FamilyName'] = train['Name'].str.split(' ',expand=True)[1]\n",
        "train['FamilyName'] = train['FamilyName'].fillna('Unknown')\n",
        "\n",
        "test['FamilyName'] = test['Name'].str.split(' ',expand=True)[1]\n",
        "test['FamilyName'] = test['FamilyName'].fillna('Unknown')\n",
        "\n",
        "train_test['FamilyName'] = train_test['Name'].str.split(' ',expand=True)[1]\n",
        "train_test['FamilyName'] = train_test['FamilyName'].fillna('Unknown')\n",
        "\n",
        "family_name_dic = train_test['FamilyName'].value_counts().to_dict()\n",
        "family_name_dic['Unknown'] = 0\n",
        "\n",
        "train['FamilyMember'] = train['FamilyName']\n",
        "train['FamilyMember'] = train['FamilyMember'].map(family_name_dic)\n",
        "\n",
        "test['FamilyMember'] = test['FamilyName']\n",
        "test['FamilyMember'] = test['FamilyMember'].map(family_name_dic)"
      ],
      "metadata": {
        "id": "7IRW1EBVAYVe"
      },
      "execution_count": null,
      "outputs": []
    },
    {
      "cell_type": "code",
      "source": [
        "train = train.drop(['PassengerId','PassengerGroup','Cabin','Name','FamilyName'],axis=1)\n",
        "test = test.drop(['PassengerId','PassengerGroup','Cabin','Name','FamilyName'],axis=1)"
      ],
      "metadata": {
        "id": "aSgTgm97Aa5W"
      },
      "execution_count": null,
      "outputs": []
    },
    {
      "cell_type": "code",
      "source": [
        "\n",
        "train[['CryoSleep','VIP','Transported']] = train[['CryoSleep','VIP','Transported']].astype(int)\n",
        "test[['CryoSleep','VIP']] = test[['CryoSleep','VIP']].astype(int)"
      ],
      "metadata": {
        "id": "HC6boTvbAdQE"
      },
      "execution_count": null,
      "outputs": []
    },
    {
      "cell_type": "code",
      "source": [
        "train.head()"
      ],
      "metadata": {
        "id": "3Z1ZW-OIAfbf",
        "colab": {
          "base_uri": "https://localhost:8080/",
          "height": 270
        },
        "outputId": "dc74f20f-a8b0-4695-a6cd-2064cdc1d6bf"
      },
      "execution_count": null,
      "outputs": [
        {
          "output_type": "execute_result",
          "data": {
            "text/plain": [
              "  HomePlanet  CryoSleep Destination   Age  VIP  RoomService  FoodCourt  \\\n",
              "0     Europa          0           A  39.0    0          0.0        0.0   \n",
              "1      Earth          0           A  24.0    0        109.0        9.0   \n",
              "2     Europa          0           A  58.0    1         43.0     3576.0   \n",
              "3     Europa          0           A  33.0    0          0.0     1283.0   \n",
              "4      Earth          0           A  16.0    0        303.0       70.0   \n",
              "\n",
              "   ShoppingMall     Spa  VRDeck  Transported CabinDeck CabinSide  Adult  \\\n",
              "0           0.0     0.0     0.0            0         B         P      1   \n",
              "1          25.0   549.0    44.0            1         F         S      1   \n",
              "2           0.0  6715.0    49.0            0         A         S      1   \n",
              "3         371.0  3329.0   193.0            0         A         S      1   \n",
              "4         151.0   565.0     2.0            1         F         S      0   \n",
              "\n",
              "   TotalSpend  FamilyMember  \n",
              "0         0.0             3  \n",
              "1       736.0             4  \n",
              "2     10383.0             7  \n",
              "3      5176.0             7  \n",
              "4      1091.0             9  "
            ],
            "text/html": [
              "\n",
              "  <div id=\"df-4be73e93-6ccf-4dc4-a09e-c9c4b3bb0e4a\">\n",
              "    <div class=\"colab-df-container\">\n",
              "      <div>\n",
              "<style scoped>\n",
              "    .dataframe tbody tr th:only-of-type {\n",
              "        vertical-align: middle;\n",
              "    }\n",
              "\n",
              "    .dataframe tbody tr th {\n",
              "        vertical-align: top;\n",
              "    }\n",
              "\n",
              "    .dataframe thead th {\n",
              "        text-align: right;\n",
              "    }\n",
              "</style>\n",
              "<table border=\"1\" class=\"dataframe\">\n",
              "  <thead>\n",
              "    <tr style=\"text-align: right;\">\n",
              "      <th></th>\n",
              "      <th>HomePlanet</th>\n",
              "      <th>CryoSleep</th>\n",
              "      <th>Destination</th>\n",
              "      <th>Age</th>\n",
              "      <th>VIP</th>\n",
              "      <th>RoomService</th>\n",
              "      <th>FoodCourt</th>\n",
              "      <th>ShoppingMall</th>\n",
              "      <th>Spa</th>\n",
              "      <th>VRDeck</th>\n",
              "      <th>Transported</th>\n",
              "      <th>CabinDeck</th>\n",
              "      <th>CabinSide</th>\n",
              "      <th>Adult</th>\n",
              "      <th>TotalSpend</th>\n",
              "      <th>FamilyMember</th>\n",
              "    </tr>\n",
              "  </thead>\n",
              "  <tbody>\n",
              "    <tr>\n",
              "      <th>0</th>\n",
              "      <td>Europa</td>\n",
              "      <td>0</td>\n",
              "      <td>A</td>\n",
              "      <td>39.0</td>\n",
              "      <td>0</td>\n",
              "      <td>0.0</td>\n",
              "      <td>0.0</td>\n",
              "      <td>0.0</td>\n",
              "      <td>0.0</td>\n",
              "      <td>0.0</td>\n",
              "      <td>0</td>\n",
              "      <td>B</td>\n",
              "      <td>P</td>\n",
              "      <td>1</td>\n",
              "      <td>0.0</td>\n",
              "      <td>3</td>\n",
              "    </tr>\n",
              "    <tr>\n",
              "      <th>1</th>\n",
              "      <td>Earth</td>\n",
              "      <td>0</td>\n",
              "      <td>A</td>\n",
              "      <td>24.0</td>\n",
              "      <td>0</td>\n",
              "      <td>109.0</td>\n",
              "      <td>9.0</td>\n",
              "      <td>25.0</td>\n",
              "      <td>549.0</td>\n",
              "      <td>44.0</td>\n",
              "      <td>1</td>\n",
              "      <td>F</td>\n",
              "      <td>S</td>\n",
              "      <td>1</td>\n",
              "      <td>736.0</td>\n",
              "      <td>4</td>\n",
              "    </tr>\n",
              "    <tr>\n",
              "      <th>2</th>\n",
              "      <td>Europa</td>\n",
              "      <td>0</td>\n",
              "      <td>A</td>\n",
              "      <td>58.0</td>\n",
              "      <td>1</td>\n",
              "      <td>43.0</td>\n",
              "      <td>3576.0</td>\n",
              "      <td>0.0</td>\n",
              "      <td>6715.0</td>\n",
              "      <td>49.0</td>\n",
              "      <td>0</td>\n",
              "      <td>A</td>\n",
              "      <td>S</td>\n",
              "      <td>1</td>\n",
              "      <td>10383.0</td>\n",
              "      <td>7</td>\n",
              "    </tr>\n",
              "    <tr>\n",
              "      <th>3</th>\n",
              "      <td>Europa</td>\n",
              "      <td>0</td>\n",
              "      <td>A</td>\n",
              "      <td>33.0</td>\n",
              "      <td>0</td>\n",
              "      <td>0.0</td>\n",
              "      <td>1283.0</td>\n",
              "      <td>371.0</td>\n",
              "      <td>3329.0</td>\n",
              "      <td>193.0</td>\n",
              "      <td>0</td>\n",
              "      <td>A</td>\n",
              "      <td>S</td>\n",
              "      <td>1</td>\n",
              "      <td>5176.0</td>\n",
              "      <td>7</td>\n",
              "    </tr>\n",
              "    <tr>\n",
              "      <th>4</th>\n",
              "      <td>Earth</td>\n",
              "      <td>0</td>\n",
              "      <td>A</td>\n",
              "      <td>16.0</td>\n",
              "      <td>0</td>\n",
              "      <td>303.0</td>\n",
              "      <td>70.0</td>\n",
              "      <td>151.0</td>\n",
              "      <td>565.0</td>\n",
              "      <td>2.0</td>\n",
              "      <td>1</td>\n",
              "      <td>F</td>\n",
              "      <td>S</td>\n",
              "      <td>0</td>\n",
              "      <td>1091.0</td>\n",
              "      <td>9</td>\n",
              "    </tr>\n",
              "  </tbody>\n",
              "</table>\n",
              "</div>\n",
              "      <button class=\"colab-df-convert\" onclick=\"convertToInteractive('df-4be73e93-6ccf-4dc4-a09e-c9c4b3bb0e4a')\"\n",
              "              title=\"Convert this dataframe to an interactive table.\"\n",
              "              style=\"display:none;\">\n",
              "        \n",
              "  <svg xmlns=\"http://www.w3.org/2000/svg\" height=\"24px\"viewBox=\"0 0 24 24\"\n",
              "       width=\"24px\">\n",
              "    <path d=\"M0 0h24v24H0V0z\" fill=\"none\"/>\n",
              "    <path d=\"M18.56 5.44l.94 2.06.94-2.06 2.06-.94-2.06-.94-.94-2.06-.94 2.06-2.06.94zm-11 1L8.5 8.5l.94-2.06 2.06-.94-2.06-.94L8.5 2.5l-.94 2.06-2.06.94zm10 10l.94 2.06.94-2.06 2.06-.94-2.06-.94-.94-2.06-.94 2.06-2.06.94z\"/><path d=\"M17.41 7.96l-1.37-1.37c-.4-.4-.92-.59-1.43-.59-.52 0-1.04.2-1.43.59L10.3 9.45l-7.72 7.72c-.78.78-.78 2.05 0 2.83L4 21.41c.39.39.9.59 1.41.59.51 0 1.02-.2 1.41-.59l7.78-7.78 2.81-2.81c.8-.78.8-2.07 0-2.86zM5.41 20L4 18.59l7.72-7.72 1.47 1.35L5.41 20z\"/>\n",
              "  </svg>\n",
              "      </button>\n",
              "      \n",
              "  <style>\n",
              "    .colab-df-container {\n",
              "      display:flex;\n",
              "      flex-wrap:wrap;\n",
              "      gap: 12px;\n",
              "    }\n",
              "\n",
              "    .colab-df-convert {\n",
              "      background-color: #E8F0FE;\n",
              "      border: none;\n",
              "      border-radius: 50%;\n",
              "      cursor: pointer;\n",
              "      display: none;\n",
              "      fill: #1967D2;\n",
              "      height: 32px;\n",
              "      padding: 0 0 0 0;\n",
              "      width: 32px;\n",
              "    }\n",
              "\n",
              "    .colab-df-convert:hover {\n",
              "      background-color: #E2EBFA;\n",
              "      box-shadow: 0px 1px 2px rgba(60, 64, 67, 0.3), 0px 1px 3px 1px rgba(60, 64, 67, 0.15);\n",
              "      fill: #174EA6;\n",
              "    }\n",
              "\n",
              "    [theme=dark] .colab-df-convert {\n",
              "      background-color: #3B4455;\n",
              "      fill: #D2E3FC;\n",
              "    }\n",
              "\n",
              "    [theme=dark] .colab-df-convert:hover {\n",
              "      background-color: #434B5C;\n",
              "      box-shadow: 0px 1px 3px 1px rgba(0, 0, 0, 0.15);\n",
              "      filter: drop-shadow(0px 1px 2px rgba(0, 0, 0, 0.3));\n",
              "      fill: #FFFFFF;\n",
              "    }\n",
              "  </style>\n",
              "\n",
              "      <script>\n",
              "        const buttonEl =\n",
              "          document.querySelector('#df-4be73e93-6ccf-4dc4-a09e-c9c4b3bb0e4a button.colab-df-convert');\n",
              "        buttonEl.style.display =\n",
              "          google.colab.kernel.accessAllowed ? 'block' : 'none';\n",
              "\n",
              "        async function convertToInteractive(key) {\n",
              "          const element = document.querySelector('#df-4be73e93-6ccf-4dc4-a09e-c9c4b3bb0e4a');\n",
              "          const dataTable =\n",
              "            await google.colab.kernel.invokeFunction('convertToInteractive',\n",
              "                                                     [key], {});\n",
              "          if (!dataTable) return;\n",
              "\n",
              "          const docLinkHtml = 'Like what you see? Visit the ' +\n",
              "            '<a target=\"_blank\" href=https://colab.research.google.com/notebooks/data_table.ipynb>data table notebook</a>'\n",
              "            + ' to learn more about interactive tables.';\n",
              "          element.innerHTML = '';\n",
              "          dataTable['output_type'] = 'display_data';\n",
              "          await google.colab.output.renderOutput(dataTable, element);\n",
              "          const docLink = document.createElement('div');\n",
              "          docLink.innerHTML = docLinkHtml;\n",
              "          element.appendChild(docLink);\n",
              "        }\n",
              "      </script>\n",
              "    </div>\n",
              "  </div>\n",
              "  "
            ]
          },
          "metadata": {},
          "execution_count": 19
        }
      ]
    },
    {
      "cell_type": "code",
      "source": [
        "test.head()"
      ],
      "metadata": {
        "id": "5pnp2mNdAiZW",
        "colab": {
          "base_uri": "https://localhost:8080/",
          "height": 270
        },
        "outputId": "de4001a5-21d2-4618-94a6-5b9553c81d9e"
      },
      "execution_count": null,
      "outputs": [
        {
          "output_type": "execute_result",
          "data": {
            "text/plain": [
              "  HomePlanet  CryoSleep Destination   Age  VIP  RoomService  FoodCourt  \\\n",
              "0      Earth          1           A  27.0    0          0.0        0.0   \n",
              "1      Earth          0           A  19.0    0          0.0        9.0   \n",
              "2     Europa          1           B  31.0    0          0.0        0.0   \n",
              "3     Europa          0           A  38.0    0          0.0     6652.0   \n",
              "4      Earth          0           A  20.0    0         10.0        0.0   \n",
              "\n",
              "   ShoppingMall     Spa  VRDeck CabinDeck CabinSide  Adult  TotalSpend  \\\n",
              "0           0.0     0.0     0.0         G         S      1         0.0   \n",
              "1           0.0  2823.0     0.0         F         S      1      2832.0   \n",
              "2           0.0     0.0     0.0         C         S      1         0.0   \n",
              "3           0.0   181.0   585.0         C         S      1      7418.0   \n",
              "4         635.0     0.0     0.0         F         S      1       645.0   \n",
              "\n",
              "   FamilyMember  \n",
              "0             8  \n",
              "1             4  \n",
              "2             6  \n",
              "3             2  \n",
              "4             5  "
            ],
            "text/html": [
              "\n",
              "  <div id=\"df-ea3c2d8b-5d35-469e-a13f-b77e257fe571\">\n",
              "    <div class=\"colab-df-container\">\n",
              "      <div>\n",
              "<style scoped>\n",
              "    .dataframe tbody tr th:only-of-type {\n",
              "        vertical-align: middle;\n",
              "    }\n",
              "\n",
              "    .dataframe tbody tr th {\n",
              "        vertical-align: top;\n",
              "    }\n",
              "\n",
              "    .dataframe thead th {\n",
              "        text-align: right;\n",
              "    }\n",
              "</style>\n",
              "<table border=\"1\" class=\"dataframe\">\n",
              "  <thead>\n",
              "    <tr style=\"text-align: right;\">\n",
              "      <th></th>\n",
              "      <th>HomePlanet</th>\n",
              "      <th>CryoSleep</th>\n",
              "      <th>Destination</th>\n",
              "      <th>Age</th>\n",
              "      <th>VIP</th>\n",
              "      <th>RoomService</th>\n",
              "      <th>FoodCourt</th>\n",
              "      <th>ShoppingMall</th>\n",
              "      <th>Spa</th>\n",
              "      <th>VRDeck</th>\n",
              "      <th>CabinDeck</th>\n",
              "      <th>CabinSide</th>\n",
              "      <th>Adult</th>\n",
              "      <th>TotalSpend</th>\n",
              "      <th>FamilyMember</th>\n",
              "    </tr>\n",
              "  </thead>\n",
              "  <tbody>\n",
              "    <tr>\n",
              "      <th>0</th>\n",
              "      <td>Earth</td>\n",
              "      <td>1</td>\n",
              "      <td>A</td>\n",
              "      <td>27.0</td>\n",
              "      <td>0</td>\n",
              "      <td>0.0</td>\n",
              "      <td>0.0</td>\n",
              "      <td>0.0</td>\n",
              "      <td>0.0</td>\n",
              "      <td>0.0</td>\n",
              "      <td>G</td>\n",
              "      <td>S</td>\n",
              "      <td>1</td>\n",
              "      <td>0.0</td>\n",
              "      <td>8</td>\n",
              "    </tr>\n",
              "    <tr>\n",
              "      <th>1</th>\n",
              "      <td>Earth</td>\n",
              "      <td>0</td>\n",
              "      <td>A</td>\n",
              "      <td>19.0</td>\n",
              "      <td>0</td>\n",
              "      <td>0.0</td>\n",
              "      <td>9.0</td>\n",
              "      <td>0.0</td>\n",
              "      <td>2823.0</td>\n",
              "      <td>0.0</td>\n",
              "      <td>F</td>\n",
              "      <td>S</td>\n",
              "      <td>1</td>\n",
              "      <td>2832.0</td>\n",
              "      <td>4</td>\n",
              "    </tr>\n",
              "    <tr>\n",
              "      <th>2</th>\n",
              "      <td>Europa</td>\n",
              "      <td>1</td>\n",
              "      <td>B</td>\n",
              "      <td>31.0</td>\n",
              "      <td>0</td>\n",
              "      <td>0.0</td>\n",
              "      <td>0.0</td>\n",
              "      <td>0.0</td>\n",
              "      <td>0.0</td>\n",
              "      <td>0.0</td>\n",
              "      <td>C</td>\n",
              "      <td>S</td>\n",
              "      <td>1</td>\n",
              "      <td>0.0</td>\n",
              "      <td>6</td>\n",
              "    </tr>\n",
              "    <tr>\n",
              "      <th>3</th>\n",
              "      <td>Europa</td>\n",
              "      <td>0</td>\n",
              "      <td>A</td>\n",
              "      <td>38.0</td>\n",
              "      <td>0</td>\n",
              "      <td>0.0</td>\n",
              "      <td>6652.0</td>\n",
              "      <td>0.0</td>\n",
              "      <td>181.0</td>\n",
              "      <td>585.0</td>\n",
              "      <td>C</td>\n",
              "      <td>S</td>\n",
              "      <td>1</td>\n",
              "      <td>7418.0</td>\n",
              "      <td>2</td>\n",
              "    </tr>\n",
              "    <tr>\n",
              "      <th>4</th>\n",
              "      <td>Earth</td>\n",
              "      <td>0</td>\n",
              "      <td>A</td>\n",
              "      <td>20.0</td>\n",
              "      <td>0</td>\n",
              "      <td>10.0</td>\n",
              "      <td>0.0</td>\n",
              "      <td>635.0</td>\n",
              "      <td>0.0</td>\n",
              "      <td>0.0</td>\n",
              "      <td>F</td>\n",
              "      <td>S</td>\n",
              "      <td>1</td>\n",
              "      <td>645.0</td>\n",
              "      <td>5</td>\n",
              "    </tr>\n",
              "  </tbody>\n",
              "</table>\n",
              "</div>\n",
              "      <button class=\"colab-df-convert\" onclick=\"convertToInteractive('df-ea3c2d8b-5d35-469e-a13f-b77e257fe571')\"\n",
              "              title=\"Convert this dataframe to an interactive table.\"\n",
              "              style=\"display:none;\">\n",
              "        \n",
              "  <svg xmlns=\"http://www.w3.org/2000/svg\" height=\"24px\"viewBox=\"0 0 24 24\"\n",
              "       width=\"24px\">\n",
              "    <path d=\"M0 0h24v24H0V0z\" fill=\"none\"/>\n",
              "    <path d=\"M18.56 5.44l.94 2.06.94-2.06 2.06-.94-2.06-.94-.94-2.06-.94 2.06-2.06.94zm-11 1L8.5 8.5l.94-2.06 2.06-.94-2.06-.94L8.5 2.5l-.94 2.06-2.06.94zm10 10l.94 2.06.94-2.06 2.06-.94-2.06-.94-.94-2.06-.94 2.06-2.06.94z\"/><path d=\"M17.41 7.96l-1.37-1.37c-.4-.4-.92-.59-1.43-.59-.52 0-1.04.2-1.43.59L10.3 9.45l-7.72 7.72c-.78.78-.78 2.05 0 2.83L4 21.41c.39.39.9.59 1.41.59.51 0 1.02-.2 1.41-.59l7.78-7.78 2.81-2.81c.8-.78.8-2.07 0-2.86zM5.41 20L4 18.59l7.72-7.72 1.47 1.35L5.41 20z\"/>\n",
              "  </svg>\n",
              "      </button>\n",
              "      \n",
              "  <style>\n",
              "    .colab-df-container {\n",
              "      display:flex;\n",
              "      flex-wrap:wrap;\n",
              "      gap: 12px;\n",
              "    }\n",
              "\n",
              "    .colab-df-convert {\n",
              "      background-color: #E8F0FE;\n",
              "      border: none;\n",
              "      border-radius: 50%;\n",
              "      cursor: pointer;\n",
              "      display: none;\n",
              "      fill: #1967D2;\n",
              "      height: 32px;\n",
              "      padding: 0 0 0 0;\n",
              "      width: 32px;\n",
              "    }\n",
              "\n",
              "    .colab-df-convert:hover {\n",
              "      background-color: #E2EBFA;\n",
              "      box-shadow: 0px 1px 2px rgba(60, 64, 67, 0.3), 0px 1px 3px 1px rgba(60, 64, 67, 0.15);\n",
              "      fill: #174EA6;\n",
              "    }\n",
              "\n",
              "    [theme=dark] .colab-df-convert {\n",
              "      background-color: #3B4455;\n",
              "      fill: #D2E3FC;\n",
              "    }\n",
              "\n",
              "    [theme=dark] .colab-df-convert:hover {\n",
              "      background-color: #434B5C;\n",
              "      box-shadow: 0px 1px 3px 1px rgba(0, 0, 0, 0.15);\n",
              "      filter: drop-shadow(0px 1px 2px rgba(0, 0, 0, 0.3));\n",
              "      fill: #FFFFFF;\n",
              "    }\n",
              "  </style>\n",
              "\n",
              "      <script>\n",
              "        const buttonEl =\n",
              "          document.querySelector('#df-ea3c2d8b-5d35-469e-a13f-b77e257fe571 button.colab-df-convert');\n",
              "        buttonEl.style.display =\n",
              "          google.colab.kernel.accessAllowed ? 'block' : 'none';\n",
              "\n",
              "        async function convertToInteractive(key) {\n",
              "          const element = document.querySelector('#df-ea3c2d8b-5d35-469e-a13f-b77e257fe571');\n",
              "          const dataTable =\n",
              "            await google.colab.kernel.invokeFunction('convertToInteractive',\n",
              "                                                     [key], {});\n",
              "          if (!dataTable) return;\n",
              "\n",
              "          const docLinkHtml = 'Like what you see? Visit the ' +\n",
              "            '<a target=\"_blank\" href=https://colab.research.google.com/notebooks/data_table.ipynb>data table notebook</a>'\n",
              "            + ' to learn more about interactive tables.';\n",
              "          element.innerHTML = '';\n",
              "          dataTable['output_type'] = 'display_data';\n",
              "          await google.colab.output.renderOutput(dataTable, element);\n",
              "          const docLink = document.createElement('div');\n",
              "          docLink.innerHTML = docLinkHtml;\n",
              "          element.appendChild(docLink);\n",
              "        }\n",
              "      </script>\n",
              "    </div>\n",
              "  </div>\n",
              "  "
            ]
          },
          "metadata": {},
          "execution_count": 20
        }
      ]
    },
    {
      "cell_type": "code",
      "source": [
        "# Feature Scaling\n",
        "num_features = ['Age','RoomService','FoodCourt','ShoppingMall','Spa','VRDeck','TotalSpend','FamilyMember']\n",
        "\n",
        "from sklearn.preprocessing import MinMaxScaler\n",
        "\n",
        "scaler = MinMaxScaler()\n",
        "train_num_scaled = scaler.fit_transform(train[num_features])\n",
        "test_num_scaled = scaler.transform(test[num_features])\n",
        "\n",
        "train_num_scaled = pd.DataFrame(data=train_num_scaled,columns=num_features)\n",
        "test_num_scaled = pd.DataFrame(data=test_num_scaled,columns=num_features)\n",
        "\n",
        "# Feature Encoding\n",
        "cat_features = ['HomePlanet','CryoSleep','Destination','VIP','CabinDeck','CabinSide','Adult']\n",
        "\n",
        "train_cat_encoded = pd.get_dummies(train[cat_features],drop_first=True)\n",
        "test_cat_encoded = pd.get_dummies(test[cat_features],drop_first=True)"
      ],
      "metadata": {
        "id": "ge0CexsWAk4M"
      },
      "execution_count": null,
      "outputs": []
    },
    {
      "cell_type": "code",
      "source": [
        "# Train and Test\n",
        "X = pd.concat([train_num_scaled,train_cat_encoded],axis=1)\n",
        "X_test = pd.concat([test_num_scaled,test_cat_encoded],axis=1)\n",
        "y = train.Transported\n",
        "X_all = pd.concat([X,y],axis=1)"
      ],
      "metadata": {
        "id": "9YmHMfXDAnix"
      },
      "execution_count": null,
      "outputs": []
    },
    {
      "cell_type": "code",
      "source": [
        "# Train Valid Split\n",
        "from sklearn.model_selection import train_test_split\n",
        "X_train, X_valid, y_train, y_valid = train_test_split(X, y, test_size=0.3, random_state=101)"
      ],
      "metadata": {
        "id": "LwqTx-gbAs5-"
      },
      "execution_count": null,
      "outputs": []
    },
    {
      "cell_type": "code",
      "source": [
        "!pip3 install catboost"
      ],
      "metadata": {
        "id": "q-PF4NV4CpV0",
        "colab": {
          "base_uri": "https://localhost:8080/"
        },
        "outputId": "93f50cc2-4258-4f73-b533-cbe25c143768"
      },
      "execution_count": null,
      "outputs": [
        {
          "output_type": "stream",
          "name": "stdout",
          "text": [
            "Looking in indexes: https://pypi.org/simple, https://us-python.pkg.dev/colab-wheels/public/simple/\n",
            "Collecting catboost\n",
            "  Downloading catboost-1.1.1-cp37-none-manylinux1_x86_64.whl (76.6 MB)\n",
            "\u001b[K     |████████████████████████████████| 76.6 MB 1.1 MB/s \n",
            "\u001b[?25hRequirement already satisfied: plotly in /usr/local/lib/python3.7/dist-packages (from catboost) (5.5.0)\n",
            "Requirement already satisfied: graphviz in /usr/local/lib/python3.7/dist-packages (from catboost) (0.10.1)\n",
            "Requirement already satisfied: pandas>=0.24.0 in /usr/local/lib/python3.7/dist-packages (from catboost) (1.3.5)\n",
            "Requirement already satisfied: numpy>=1.16.0 in /usr/local/lib/python3.7/dist-packages (from catboost) (1.21.6)\n",
            "Requirement already satisfied: six in /usr/local/lib/python3.7/dist-packages (from catboost) (1.15.0)\n",
            "Requirement already satisfied: matplotlib in /usr/local/lib/python3.7/dist-packages (from catboost) (3.2.2)\n",
            "Requirement already satisfied: scipy in /usr/local/lib/python3.7/dist-packages (from catboost) (1.7.3)\n",
            "Requirement already satisfied: python-dateutil>=2.7.3 in /usr/local/lib/python3.7/dist-packages (from pandas>=0.24.0->catboost) (2.8.2)\n",
            "Requirement already satisfied: pytz>=2017.3 in /usr/local/lib/python3.7/dist-packages (from pandas>=0.24.0->catboost) (2022.6)\n",
            "Requirement already satisfied: cycler>=0.10 in /usr/local/lib/python3.7/dist-packages (from matplotlib->catboost) (0.11.0)\n",
            "Requirement already satisfied: kiwisolver>=1.0.1 in /usr/local/lib/python3.7/dist-packages (from matplotlib->catboost) (1.4.4)\n",
            "Requirement already satisfied: pyparsing!=2.0.4,!=2.1.2,!=2.1.6,>=2.0.1 in /usr/local/lib/python3.7/dist-packages (from matplotlib->catboost) (3.0.9)\n",
            "Requirement already satisfied: typing-extensions in /usr/local/lib/python3.7/dist-packages (from kiwisolver>=1.0.1->matplotlib->catboost) (4.1.1)\n",
            "Requirement already satisfied: tenacity>=6.2.0 in /usr/local/lib/python3.7/dist-packages (from plotly->catboost) (8.1.0)\n",
            "Installing collected packages: catboost\n",
            "Successfully installed catboost-1.1.1\n"
          ]
        }
      ]
    },
    {
      "cell_type": "code",
      "source": [
        "from sklearn.model_selection import cross_val_score\n",
        "from sklearn import metrics\n",
        "\n",
        "from sklearn.linear_model import LogisticRegression\n",
        "from sklearn.tree import DecisionTreeClassifier\n",
        "from sklearn.ensemble import RandomForestClassifier\n",
        "from xgboost.sklearn import XGBClassifier\n",
        "from sklearn.ensemble import GradientBoostingClassifier\n",
        "from lightgbm import LGBMClassifier\n",
        "from catboost import CatBoostClassifier\n",
        "from sklearn.ensemble import HistGradientBoostingClassifier\n",
        "\n",
        "from sklearn.model_selection import GridSearchCV"
      ],
      "metadata": {
        "id": "qz8AosCoAv9u"
      },
      "execution_count": null,
      "outputs": []
    },
    {
      "cell_type": "code",
      "source": [
        "# Logistic Regression\n",
        "print('Running LogisticRegression\\n')\n",
        "logreg = LogisticRegression(max_iter = 600)\n",
        "scores = cross_val_score(logreg,X_train,y_train,scoring='neg_mean_squared_error',cv=5)\n",
        "logreg_mse = round(abs(scores.mean()), 4)\n",
        "logreg.fit(X_train, y_train)\n",
        "y_pred = logreg.predict(X_valid)\n",
        "logreg_acc = round(metrics.accuracy_score(y_valid, y_pred), 4)\n",
        "\n",
        "\n",
        "# Decision Tree\n",
        "print('Running DecisionTreeClassifier\\n')\n",
        "decision_tree = DecisionTreeClassifier()\n",
        "scores = cross_val_score(decision_tree,X_train,y_train,scoring='neg_mean_squared_error',cv=5)\n",
        "decision_tree_mse = round(abs(scores.mean()), 4)\n",
        "decision_tree.fit(X_train, y_train)\n",
        "y_pred = decision_tree.predict(X_valid)\n",
        "decision_tree_acc = round(metrics.accuracy_score(y_valid, y_pred), 4)\n",
        "\n",
        "# Random Forest\n",
        "print('Running RandomForestClassifier\\n')\n",
        "random_forest = RandomForestClassifier()\n",
        "scores = cross_val_score(random_forest,X_train,y_train,scoring='neg_mean_squared_error',cv=5)\n",
        "random_forest_mse = round(abs(scores.mean()), 4)\n",
        "random_forest.fit(X_train, y_train)\n",
        "y_pred = random_forest.predict(X_valid)\n",
        "random_forest_acc = round(metrics.accuracy_score(y_valid, y_pred), 4)\n",
        "\n",
        "\n",
        "# Catboost\n",
        "print('Running CatBoostClassifier\\n')\n",
        "catb = CatBoostClassifier(verbose = 0)\n",
        "scores = cross_val_score(catb,X_train,y_train,scoring='neg_mean_squared_error',cv=5)\n",
        "catb_mse = round(abs(scores.mean()), 4)\n",
        "catb.fit(X_train, y_train)\n",
        "y_pred = catb.predict(X_valid)\n",
        "catb_acc = round(metrics.accuracy_score(y_valid, y_pred), 4)\n",
        "\n",
        "\n",
        "model_df = pd.DataFrame({\n",
        "    'Model': ['Logistic Regression', 'Decision Tree', 'Random Forest','Catboost'],\n",
        "    'Train MSE': [logreg_mse, decision_tree_mse, random_forest_mse, xgb_mse, gb_mse, lgbm_mse, catb_mse, hgb_mse],\n",
        "    'Accuracy': [logreg_acc, decision_tree_acc, random_forest_acc, xgb_acc, gb_acc, lgbm_acc, catb_acc, hgb_acc]\n",
        "})\n",
        "\n",
        "print(model_df.sort_values('Accuracy', ascending = False).reset_index(drop = True))"
      ],
      "metadata": {
        "id": "1_Me-lQXBCWF",
        "colab": {
          "base_uri": "https://localhost:8080/"
        },
        "outputId": "3cd88fd4-3758-41ec-e336-3c49e98b4e49"
      },
      "execution_count": null,
      "outputs": [
        {
          "output_type": "stream",
          "name": "stdout",
          "text": [
            "Running LogisticRegression\n",
            "\n",
            "Running DecisionTreeClassifier\n",
            "\n",
            "Running RandomForestClassifier\n",
            "\n",
            "Running XGBClassifier\n",
            "\n",
            "Running GradientBoostingClassifier\n",
            "\n",
            "Running LGBMClassifier\n",
            "\n",
            "Running CatBoostClassifier\n",
            "\n",
            "Running HistGradientBoostingClassifier\n",
            "\n",
            "                 Model  Train MSE  Validation Accuracy\n",
            "0             Catboost     0.2013               0.8198\n",
            "1            HistBoost     0.2067               0.8090\n",
            "2                   GB     0.2076               0.8087\n",
            "3             LightGBM     0.2072               0.8075\n",
            "4              XGBoost     0.2069               0.8060\n",
            "5        Random Forest     0.2217               0.7937\n",
            "6  Logistic Regression     0.2365               0.7784\n",
            "7        Decision Tree     0.2777               0.7324\n"
          ]
        }
      ]
    },
    {
      "cell_type": "code",
      "source": [
        "\n",
        "cat_boost = CatBoostClassifier(verbose = 0)\n",
        "param_grid = {'iterations':[300,400,500,1000],\n",
        "              'learning_rate':[0.01,0.03,0.05,0.07,0.09],\n",
        "              'depth':[2,5,10]\n",
        "             }\n",
        "\n",
        "grid = GridSearchCV(estimator=cat_boost, param_grid=param_grid, cv=5)\n",
        "grid.fit(X,y)\n",
        "print('Mean accuracy:',grid.score(X,y))\n",
        "print('Best hyperparameters:',grid.best_params_)"
      ],
      "metadata": {
        "id": "6q2iuf23BFNZ",
        "colab": {
          "base_uri": "https://localhost:8080/"
        },
        "outputId": "4fe73801-8d94-41c5-e276-7e5ecb9d9af1"
      },
      "execution_count": null,
      "outputs": [
        {
          "output_type": "stream",
          "name": "stdout",
          "text": [
            "Mean accuracy: 0.831818704704935\n",
            "Best hyperparameters: {'depth': 5, 'iterations': 300, 'learning_rate': 0.05}\n"
          ]
        }
      ]
    },
    {
      "cell_type": "code",
      "source": [
        "\n",
        "cat_boost = CatBoostClassifier(depth=5,iterations=300,learning_rate=0.05,verbose=0)"
      ],
      "metadata": {
        "id": "u9jHwFKdBH9-"
      },
      "execution_count": null,
      "outputs": []
    },
    {
      "cell_type": "code",
      "source": [
        "\n",
        "model=cat_boost\n",
        "model.fit(X,y)\n",
        "predictions = model.predict(X_test)\n",
        "output = pd.DataFrame({'PassengerId': test_df.PassengerId, 'Transported': predictions})\n",
        "output['Transported'] = output['Transported'].astype('bool')\n",
        "output.to_csv('submission.csv', index=False)"
      ],
      "metadata": {
        "id": "a-9c5Tn1BKQ7"
      },
      "execution_count": null,
      "outputs": []
    },
    {
      "cell_type": "code",
      "source": [],
      "metadata": {
        "id": "mGdwfrONBMU3"
      },
      "execution_count": null,
      "outputs": []
    }
  ]
}